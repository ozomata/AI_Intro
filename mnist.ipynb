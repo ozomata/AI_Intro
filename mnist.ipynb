{
  "nbformat": 4,
  "nbformat_minor": 0,
  "metadata": {
    "colab": {
      "provenance": [],
      "authorship_tag": "ABX9TyONiGkDiCI6WqM6i52eJfEC",
      "include_colab_link": true
    },
    "kernelspec": {
      "name": "python3",
      "display_name": "Python 3"
    },
    "language_info": {
      "name": "python"
    }
  },
  "cells": [
    {
      "cell_type": "markdown",
      "metadata": {
        "id": "view-in-github",
        "colab_type": "text"
      },
      "source": [
        "<a href=\"https://colab.research.google.com/github/ozomata/AI_Intro/blob/main/mnist.ipynb\" target=\"_parent\"><img src=\"https://colab.research.google.com/assets/colab-badge.svg\" alt=\"Open In Colab\"/></a>"
      ]
    },
    {
      "cell_type": "code",
      "execution_count": 2,
      "metadata": {
        "colab": {
          "base_uri": "https://localhost:8080/"
        },
        "id": "9QaPNjYkIafK",
        "outputId": "505ce332-8f40-4091-b1ec-ca99b32c1c8c"
      },
      "outputs": [
        {
          "output_type": "stream",
          "name": "stdout",
          "text": [
            "2.11.0\n"
          ]
        }
      ],
      "source": [
        "import tensorflow as tf\n",
        "print (tf.__version__)"
      ]
    },
    {
      "cell_type": "markdown",
      "source": [
        "load data"
      ],
      "metadata": {
        "id": "EwSo4m9rI_4H"
      }
    },
    {
      "cell_type": "code",
      "source": [
        "mnist =tf.keras.datasets.mnist\n",
        "(x_train , y_train), (x_test, y_test)=mnist.load_data()\n",
        "x_train,x_test =x_train/255,x_test/255\n",
        "print ('Xtraain shape is : ', x_train.shape)"
      ],
      "metadata": {
        "colab": {
          "base_uri": "https://localhost:8080/"
        },
        "id": "4cEadHdlJFMr",
        "outputId": "78fd5ce3-0f17-4b2a-f637-fd31565b1812"
      },
      "execution_count": 4,
      "outputs": [
        {
          "output_type": "stream",
          "name": "stdout",
          "text": [
            "Downloading data from https://storage.googleapis.com/tensorflow/tf-keras-datasets/mnist.npz\n",
            "11490434/11490434 [==============================] - 0s 0us/step\n",
            "Xtraain shape is :  (60000, 28, 28)\n"
          ]
        }
      ]
    },
    {
      "cell_type": "markdown",
      "source": [
        "Build"
      ],
      "metadata": {
        "id": "JDxxbFViTi8P"
      }
    },
    {
      "cell_type": "code",
      "source": [
        "model =tf.keras.models.Sequential([\n",
        "    tf.keras.layers.Flatten(input_shape=(28,28)),\n",
        "    tf.keras.layers.Dense(128,activation=\"relu\"),\n",
        "    tf.keras.layers.Dropout(0.2),\n",
        "    tf.keras.layers.Dense(10, activation=\"softmax\")\n",
        "    ])\n",
        "\n"
      ],
      "metadata": {
        "id": "DrEMSqyAKzRM"
      },
      "execution_count": 16,
      "outputs": []
    },
    {
      "cell_type": "markdown",
      "source": [
        "Compile Model"
      ],
      "metadata": {
        "id": "ZWdBVwOgUTHe"
      }
    },
    {
      "cell_type": "code",
      "source": [
        "model.compile(optimizer=\"adam\", loss= 'sparse_categorical_crossentropy', metrics=\"accuracy\")\n",
        "\n"
      ],
      "metadata": {
        "id": "94pJ60FFUUvu"
      },
      "execution_count": 17,
      "outputs": []
    },
    {
      "cell_type": "markdown",
      "source": [
        "Train the model"
      ],
      "metadata": {
        "id": "STMA75EeU-cX"
      }
    },
    {
      "cell_type": "code",
      "source": [
        "q=model.fit(x_train, y_train, validation_data=(x_test, y_test),epochs=10)"
      ],
      "metadata": {
        "id": "7YfO4DLAVCsU"
      },
      "execution_count": null,
      "outputs": []
    },
    {
      "cell_type": "markdown",
      "source": [
        "Loss per iteration"
      ],
      "metadata": {
        "id": "YyWfBaWEW0Tv"
      }
    },
    {
      "cell_type": "code",
      "source": [
        "import matplotlib.pyplot as plt\n",
        "plt.plot(q.history['loss'],label='loss')\n",
        "plt.plot(q.history['val_loss'], label='val_loss')\n",
        "plt.legend\n",
        "\n"
      ],
      "metadata": {
        "colab": {
          "base_uri": "https://localhost:8080/",
          "height": 282
        },
        "id": "In7AK3NZW2eD",
        "outputId": "912cc175-e544-404e-e548-1624d53f5354"
      },
      "execution_count": 26,
      "outputs": [
        {
          "output_type": "execute_result",
          "data": {
            "text/plain": [
              "<function matplotlib.pyplot.legend(*args, **kwargs)>"
            ]
          },
          "metadata": {},
          "execution_count": 26
        },
        {
          "output_type": "display_data",
          "data": {
            "text/plain": [
              "<Figure size 432x288 with 1 Axes>"
            ],
            "image/png": "[encoded data removed]"
          },
          "metadata": {
            "needs_background": "light"
          }
        }
      ]
    },
    {
      "cell_type": "markdown",
      "source": [
        "Accuracy per Iteration"
      ],
      "metadata": {
        "id": "IJA1uO0JZWrW"
      }
    },
    {
      "cell_type": "code",
      "source": [
        "plt.plot(q.history['accuracy'],label='acc')\n",
        "plt.plot(q.history['val_accuracy'], label='val_acc')\n",
        "plt.legend"
      ],
      "metadata": {
        "colab": {
          "base_uri": "https://localhost:8080/",
          "height": 282
        },
        "id": "xvdAaKKQZbkK",
        "outputId": "71ac752b-1a53-4d41-e32d-2cdc47135ef9"
      },
      "execution_count": 25,
      "outputs": [
        {
          "output_type": "execute_result",
          "data": {
            "text/plain": [
              "<function matplotlib.pyplot.legend(*args, **kwargs)>"
            ]
          },
          "metadata": {},
          "execution_count": 25
        },
        {
          "output_type": "display_data",
          "data": {
            "text/plain": [
              "<Figure size 432x288 with 1 Axes>"
            ],
            "image/png": "[encoded data removed]"
          },
          "metadata": {
            "needs_background": "light"
          }
        }
      ]
    }
  ]
}